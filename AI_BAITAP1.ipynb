{
  "nbformat": 4,
  "nbformat_minor": 0,
  "metadata": {
    "colab": {
      "provenance": []
    },
    "kernelspec": {
      "name": "python3",
      "display_name": "Python 3"
    },
    "language_info": {
      "name": "python"
    }
  },
  "cells": [
    {
      "cell_type": "code",
      "execution_count": null,
      "metadata": {
        "id": "5eAzVXrf6ENS"
      },
      "outputs": [],
      "source": []
    },
    {
      "cell_type": "markdown",
      "source": [
        "#1\n",
        "- Question: There are different interpretations of artificial intelligence in different contexts. Please elaborate on the artificial intelligence in your eyes.\n",
        "- Answer: Artificial intelligence - abbreviated AI. This is a branch of computer science. Formed by humans programming artificial intelligence with the goal of helping computers to automate intelligent behaviors like humans.\n"
      ],
      "metadata": {
        "id": "GF03WxFK8Ro_"
      }
    },
    {
      "cell_type": "markdown",
      "source": [
        "#2\n",
        "- Question: The relationship beetween Artificial Intelligence, machine learning and deeplearning\n",
        "- Answer: The relationship beetween them: Understandably, machine learning is a subfield of artificial intelligence. Deep learning is a subfield of machine learning and artificial neural networks (ANNs or called Neural networks) that make up the backbone of deep learning algorithms."
      ],
      "metadata": {
        "id": "OLqUB2CO9V5D"
      }
    },
    {
      "cell_type": "markdown",
      "source": [
        "- Question: What are the similarities and differences between the three terms?\n",
        "- Answer:\n",
        " - The similarities:\n",
        "   - Using a variety of algorithms from building mathematical and statistical formulas to train models.\n",
        "  - The differences:\n",
        "   - AI is a cross-disciplinary research field that aims at understanding intelligence and reproducing intelligence. AI is a field that tries to create general purpose models that are “intelligent” by some definition of that word. Generally, AI models try to solve a huge variety of models, even some which the model may not have been built with the idea to solve. Commonly AI is built on top of lots of ML models working together, where an ML model is kind of like specific AI as opposed to general AI.\n",
        "   - ML is an approach in AI. The emphasis is on “learning”, so we don’t explicitly program an AI like we would do for traditional, logic-based AI. Rather, we build a model that can learn and improve from data and experience. The learning algorithms are largely influenced by the field of math and statistics.\n",
        "   - Deep learning refers to a set of recent techniques in training and applying deep ANNs(Artificial Neural Networks) to problems like computer vision, language, reinforcement learning, etc. There are also shallow ANNs before deep learning."
      ],
      "metadata": {
        "id": "0x2exMw0-E-z"
      }
    },
    {
      "cell_type": "markdown",
      "source": [
        "#3\n",
        "- Question: After reading the artificial intelligence application scenarios in this chapter, please describe in detail a field of AI application and its scenarios in real life based on your own life experience.\n",
        "- Answer:  One of the outstanding applications of artificial intelligence is Chatbot. And we also know that an emerging application in the world recently is Chat GPT used for search information.\n",
        " - classify: There are many ways to categorize chatbots. Here are some common types of Chatbots, they are:\n",
        "   - Sales Chatbot\n",
        "   - Contextual Chat Chatbot\n",
        "   - Scripted Chatbot\n",
        "   - Chatbot chat by keyword\n",
        "   - Chatbot customer care\n",
        " - Chatbot brings many benefits and reduces human labor while communicating with each other and it can work tirelessly:\n",
        "   - Automated communication: Greet new visitors or send your thank you messages, happy birthday customers - this makes things more personal and customers love it.\n",
        "   - Chatbots are faster than humans: There are tasks that chatbots can complete much faster than humans. Businesses can take advantage of the speed of chatbots and automate certain tasks, such as ordering pizza - the customer makes just a few clicks and the order is placed.\n",
        "   "
      ],
      "metadata": {
        "id": "DbbXw70M_Z4l"
      }
    },
    {
      "cell_type": "markdown",
      "source": [
        "#4\n",
        "- Question: Which chip is for deep neural networks and Ascend AI processors. Please brief these four major modules.\n",
        "- Answer: \n",
        " - NeuRRAM is the first computer chip for a wide range of artificial intelligence (AI) applications while using only a small percentage of the power consumed by other platforms and maintaining comparable accuracy - University of University of California San Diego (UCSD). The new chip runs computations directly in memory and can run many AI applications. What makes the new chip different is that it does all the work with a fraction of the power consumed by general purpose AI computing platforms.\n",
        " - The NVIDIA Jetson Nano Developer Kit is a small integrated AI computer the size of a circuit board. Jetson Nano is also supported by NVIDIA JetPack. Includes board support packages (BSP), CUDA, cuDNN and TensorRT software libraries for deep learning, computer vision, GPU computing, multimedia processing and many other applications. The SDK also includes the ability to install open source Machine Learning (ML) frameworks such as TensorFlow, PyTorch, Caffe/Caffe2, Keras, and MXNet, allowing developers to integrate their favorite AI models/AI frameworks into their own applications. products quickly and easily.\n",
        " - Most new iPhones and iPads have a Neural Engine (A11-A16) and on Macbook(M1, M2), this is a special processor that makes machine learning models really fast, but not much is publicly known about how this processor actually works. The Apple Neural Engine (or ANE) is a type of NPU, which stands for Neural Processing Unit. It's like a GPU, but instead of accelerating graphics an NPU accelerates neural network operations such as convolutions and matrix multiplies.\n",
        " - Huawei launches Ascend 910, AI processor (2018). Ascend 910 is a new AI processor from Huawei's Ascend-Max series of chipsets. Huawei announced the planned specifications of this processor at their 2018 flagship event, Huawei Connect. After a year of development, the test results show that the Ascend 910 processor delivers its performance targets with much lower power consumption than was originally expected."
      ],
      "metadata": {
        "id": "4G1x6TayBrue"
      }
    },
    {
      "cell_type": "markdown",
      "source": [
        "#5 \n",
        "- Question: Based on your current knowledge and understanding, please elaborate on the development trends of artificial intelligence in the future in your view.\n",
        "- Answer: The use and implementation of AI is increasing at a high rate, and the trend of using AI will soon become ubiquitous in all fields. With the use of automated processes, problem solving is faster without compromising on quality of work. Problems that are complex in projects and take a long time will now be analyzed by machines with artificial intelligence. AI plays the role of a stimulus that promotes and spreads to all areas of human activity. From there, they can replace us humans to perform difficult and dangerous jobs."
      ],
      "metadata": {
        "id": "28CfmR4gDHs5"
      }
    }
  ]
}