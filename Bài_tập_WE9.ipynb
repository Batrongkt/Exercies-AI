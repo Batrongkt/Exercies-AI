{
  "nbformat": 4,
  "nbformat_minor": 0,
  "metadata": {
    "colab": {
      "provenance": []
    },
    "kernelspec": {
      "name": "python3",
      "display_name": "Python 3"
    },
    "language_info": {
      "name": "python"
    }
  },
  "cells": [
    {
      "cell_type": "markdown",
      "source": [
        "#Cifar 100\n"
      ],
      "metadata": {
        "id": "hNVedoQnnSEx"
      }
    },
    {
      "cell_type": "code",
      "source": [
        "import numpy as np\n",
        "import pandas as pd\n",
        "import cv2\n",
        "from keras.models import Sequential\n",
        "import matplotlib.pyplot as plt\n",
        "from tensorflow import keras\n",
        "from keras.layers import Dense, Activation,Dropout,Flatten\n",
        "from keras.datasets import cifar100\n",
        "from sklearn.preprocessing import StandardScaler\n",
        "from keras.utils import np_utils\n",
        "import tensorflow as tf \n"
      ],
      "metadata": {
        "id": "mUAXgUfInWTy"
      },
      "execution_count": 45,
      "outputs": []
    },
    {
      "cell_type": "code",
      "source": [
        "(X_train, y_train), (X_test, y_test) = cifar100.load_data(label_mode='coarse')\n",
        "X_train.shape"
      ],
      "metadata": {
        "colab": {
          "base_uri": "https://localhost:8080/"
        },
        "id": "gjiEvp-5nw52",
        "outputId": "70a2582e-eb6b-4580-f02b-098ef0bc5c21"
      },
      "execution_count": 46,
      "outputs": [
        {
          "output_type": "execute_result",
          "data": {
            "text/plain": [
              "(50000, 32, 32, 3)"
            ]
          },
          "metadata": {},
          "execution_count": 46
        }
      ]
    },
    {
      "cell_type": "code",
      "source": [
        "model = Sequential()\n",
        "model.add(Dense(512, activation='relu', input_shape = (32*32*3, )))\n",
        "model.add(Dense(256, activation='relu'))\n",
        "model.add(Dense(128, activation='relu'))\n",
        "model.add(Dense(64, activation='sigmoid'))\n",
        "model.add(Dense(20, activation='softmax'))\n",
        "\n",
        "model.summary()"
      ],
      "metadata": {
        "colab": {
          "base_uri": "https://localhost:8080/"
        },
        "id": "YZOC_qLOoptS",
        "outputId": "060178e2-6699-48b1-9ecc-b98d76749aa9"
      },
      "execution_count": 47,
      "outputs": [
        {
          "output_type": "stream",
          "name": "stdout",
          "text": [
            "Model: \"sequential_4\"\n",
            "_________________________________________________________________\n",
            " Layer (type)                Output Shape              Param #   \n",
            "=================================================================\n",
            " dense_13 (Dense)            (None, 512)               1573376   \n",
            "                                                                 \n",
            " dense_14 (Dense)            (None, 256)               131328    \n",
            "                                                                 \n",
            " dense_15 (Dense)            (None, 128)               32896     \n",
            "                                                                 \n",
            " dense_16 (Dense)            (None, 64)                8256      \n",
            "                                                                 \n",
            " dense_17 (Dense)            (None, 20)                1300      \n",
            "                                                                 \n",
            "=================================================================\n",
            "Total params: 1,747,156\n",
            "Trainable params: 1,747,156\n",
            "Non-trainable params: 0\n",
            "_________________________________________________________________\n"
          ]
        }
      ]
    },
    {
      "cell_type": "code",
      "source": [
        "X_train = X_train.reshape((50000, 32*32*3))\n",
        "X_train = X_train.astype('float32')/255.0\n",
        "\n",
        "X_test = X_test.reshape(10000, 32*32*3)\n",
        "X_test = X_test.astype('float32')/255.0\n",
        "\n",
        "train_labels = to_categorical(y_train, 20)\n",
        "test_labels = to_categorical(y_test, 20)"
      ],
      "metadata": {
        "id": "Nes_nzucpVdn"
      },
      "execution_count": 48,
      "outputs": []
    },
    {
      "cell_type": "code",
      "source": [
        "model.compile(optimizer='adam', loss='sparse_categorical_crossentropy', metrics=['accuracy'])\n",
        "\n",
        "history = model.fit(X_train, y_train, epochs=100, batch_size = 128)"
      ],
      "metadata": {
        "colab": {
          "base_uri": "https://localhost:8080/"
        },
        "id": "purlAYzGqrHB",
        "outputId": "98342344-61e8-4fac-d6c6-561dbe9faccd"
      },
      "execution_count": 15,
      "outputs": [
        {
          "output_type": "stream",
          "name": "stdout",
          "text": [
            "Epoch 1/100\n",
            "391/391 [==============================] - 20s 47ms/step - loss: 3.0238 - accuracy: 0.1633\n",
            "Epoch 2/100\n",
            "391/391 [==============================] - 17s 42ms/step - loss: 2.4515 - accuracy: 0.2387\n",
            "Epoch 3/100\n",
            "391/391 [==============================] - 17s 44ms/step - loss: 2.3633 - accuracy: 0.2688\n",
            "Epoch 4/100\n",
            "391/391 [==============================] - 18s 45ms/step - loss: 2.3106 - accuracy: 0.2840\n",
            "Epoch 5/100\n",
            "391/391 [==============================] - 21s 54ms/step - loss: 2.2677 - accuracy: 0.2971\n",
            "Epoch 6/100\n",
            "391/391 [==============================] - 16s 42ms/step - loss: 2.2345 - accuracy: 0.3085\n",
            "Epoch 7/100\n",
            "391/391 [==============================] - 17s 44ms/step - loss: 2.2053 - accuracy: 0.3171\n",
            "Epoch 8/100\n",
            "391/391 [==============================] - 20s 51ms/step - loss: 2.1780 - accuracy: 0.3257\n",
            "Epoch 9/100\n",
            "391/391 [==============================] - 17s 44ms/step - loss: 2.1567 - accuracy: 0.3318\n",
            "Epoch 10/100\n",
            "391/391 [==============================] - 17s 44ms/step - loss: 2.1345 - accuracy: 0.3393\n",
            "Epoch 11/100\n",
            "391/391 [==============================] - 16s 42ms/step - loss: 2.1135 - accuracy: 0.3461\n",
            "Epoch 12/100\n",
            "391/391 [==============================] - 16s 42ms/step - loss: 2.0991 - accuracy: 0.3480\n",
            "Epoch 13/100\n",
            "391/391 [==============================] - 19s 48ms/step - loss: 2.0774 - accuracy: 0.3569\n",
            "Epoch 14/100\n",
            "391/391 [==============================] - 16s 42ms/step - loss: 2.0642 - accuracy: 0.3616\n",
            "Epoch 15/100\n",
            "391/391 [==============================] - 17s 43ms/step - loss: 2.0488 - accuracy: 0.3671\n",
            "Epoch 16/100\n",
            "391/391 [==============================] - 18s 45ms/step - loss: 2.0331 - accuracy: 0.3710\n",
            "Epoch 17/100\n",
            "391/391 [==============================] - 16s 42ms/step - loss: 2.0177 - accuracy: 0.3751\n",
            "Epoch 18/100\n",
            "391/391 [==============================] - 16s 42ms/step - loss: 2.0079 - accuracy: 0.3768\n",
            "Epoch 19/100\n",
            "391/391 [==============================] - 16s 42ms/step - loss: 1.9926 - accuracy: 0.3832\n",
            "Epoch 20/100\n",
            "391/391 [==============================] - 18s 46ms/step - loss: 1.9798 - accuracy: 0.3864\n",
            "Epoch 21/100\n",
            "391/391 [==============================] - 16s 42ms/step - loss: 1.9713 - accuracy: 0.3884\n",
            "Epoch 22/100\n",
            "391/391 [==============================] - 16s 42ms/step - loss: 1.9552 - accuracy: 0.3911\n",
            "Epoch 23/100\n",
            "391/391 [==============================] - 17s 43ms/step - loss: 1.9487 - accuracy: 0.3956\n",
            "Epoch 24/100\n",
            "391/391 [==============================] - 17s 43ms/step - loss: 1.9358 - accuracy: 0.3995\n",
            "Epoch 25/100\n",
            "391/391 [==============================] - 17s 43ms/step - loss: 1.9263 - accuracy: 0.4005\n",
            "Epoch 26/100\n",
            "391/391 [==============================] - 16s 42ms/step - loss: 1.9130 - accuracy: 0.4047\n",
            "Epoch 27/100\n",
            "391/391 [==============================] - 17s 44ms/step - loss: 1.9040 - accuracy: 0.4097\n",
            "Epoch 28/100\n",
            "391/391 [==============================] - 16s 42ms/step - loss: 1.8938 - accuracy: 0.4119\n",
            "Epoch 29/100\n",
            "391/391 [==============================] - 16s 42ms/step - loss: 1.8858 - accuracy: 0.4128\n",
            "Epoch 30/100\n",
            "391/391 [==============================] - 16s 42ms/step - loss: 1.8754 - accuracy: 0.4157\n",
            "Epoch 31/100\n",
            "391/391 [==============================] - 18s 45ms/step - loss: 1.8688 - accuracy: 0.4182\n",
            "Epoch 32/100\n",
            "391/391 [==============================] - 17s 43ms/step - loss: 1.8544 - accuracy: 0.4235\n",
            "Epoch 33/100\n",
            "391/391 [==============================] - 17s 43ms/step - loss: 1.8463 - accuracy: 0.4257\n",
            "Epoch 34/100\n",
            "391/391 [==============================] - 17s 44ms/step - loss: 1.8403 - accuracy: 0.4254\n",
            "Epoch 35/100\n",
            "391/391 [==============================] - 17s 43ms/step - loss: 1.8307 - accuracy: 0.4307\n",
            "Epoch 36/100\n",
            "391/391 [==============================] - 17s 42ms/step - loss: 1.8181 - accuracy: 0.4340\n",
            "Epoch 37/100\n",
            "391/391 [==============================] - 17s 42ms/step - loss: 1.8129 - accuracy: 0.4336\n",
            "Epoch 38/100\n",
            "391/391 [==============================] - 18s 45ms/step - loss: 1.8047 - accuracy: 0.4370\n",
            "Epoch 39/100\n",
            "391/391 [==============================] - 17s 42ms/step - loss: 1.7940 - accuracy: 0.4409\n",
            "Epoch 40/100\n",
            "391/391 [==============================] - 16s 42ms/step - loss: 1.7869 - accuracy: 0.4423\n",
            "Epoch 41/100\n",
            "391/391 [==============================] - 17s 44ms/step - loss: 1.7781 - accuracy: 0.4458\n",
            "Epoch 42/100\n",
            "391/391 [==============================] - 17s 43ms/step - loss: 1.7680 - accuracy: 0.4493\n",
            "Epoch 43/100\n",
            "391/391 [==============================] - 16s 42ms/step - loss: 1.7684 - accuracy: 0.4466\n",
            "Epoch 44/100\n",
            "391/391 [==============================] - 16s 42ms/step - loss: 1.7547 - accuracy: 0.4527\n",
            "Epoch 45/100\n",
            "391/391 [==============================] - 18s 45ms/step - loss: 1.7464 - accuracy: 0.4545\n",
            "Epoch 46/100\n",
            "391/391 [==============================] - 16s 42ms/step - loss: 1.7390 - accuracy: 0.4562\n",
            "Epoch 47/100\n",
            "391/391 [==============================] - 16s 42ms/step - loss: 1.7307 - accuracy: 0.4609\n",
            "Epoch 48/100\n",
            "391/391 [==============================] - 17s 42ms/step - loss: 1.7247 - accuracy: 0.4616\n",
            "Epoch 49/100\n",
            "391/391 [==============================] - 18s 45ms/step - loss: 1.7129 - accuracy: 0.4645\n",
            "Epoch 50/100\n",
            "391/391 [==============================] - 16s 42ms/step - loss: 1.7050 - accuracy: 0.4665\n",
            "Epoch 51/100\n",
            "391/391 [==============================] - 16s 42ms/step - loss: 1.7028 - accuracy: 0.4674\n",
            "Epoch 52/100\n",
            "391/391 [==============================] - 17s 44ms/step - loss: 1.6925 - accuracy: 0.4686\n",
            "Epoch 53/100\n",
            "391/391 [==============================] - 17s 43ms/step - loss: 1.6874 - accuracy: 0.4733\n",
            "Epoch 54/100\n",
            "391/391 [==============================] - 16s 42ms/step - loss: 1.6772 - accuracy: 0.4727\n",
            "Epoch 55/100\n",
            "391/391 [==============================] - 16s 42ms/step - loss: 1.6702 - accuracy: 0.4766\n",
            "Epoch 56/100\n",
            "391/391 [==============================] - 17s 45ms/step - loss: 1.6634 - accuracy: 0.4789\n",
            "Epoch 57/100\n",
            "391/391 [==============================] - 16s 42ms/step - loss: 1.6591 - accuracy: 0.4799\n",
            "Epoch 58/100\n",
            "391/391 [==============================] - 16s 42ms/step - loss: 1.6475 - accuracy: 0.4839\n",
            "Epoch 59/100\n",
            "391/391 [==============================] - 16s 42ms/step - loss: 1.6384 - accuracy: 0.4851\n",
            "Epoch 60/100\n",
            "391/391 [==============================] - 18s 45ms/step - loss: 1.6353 - accuracy: 0.4877\n",
            "Epoch 61/100\n",
            "391/391 [==============================] - 16s 42ms/step - loss: 1.6286 - accuracy: 0.4872\n",
            "Epoch 62/100\n",
            "391/391 [==============================] - 17s 42ms/step - loss: 1.6197 - accuracy: 0.4939\n",
            "Epoch 63/100\n",
            "391/391 [==============================] - 17s 44ms/step - loss: 1.6155 - accuracy: 0.4936\n",
            "Epoch 64/100\n",
            "391/391 [==============================] - 17s 43ms/step - loss: 1.6081 - accuracy: 0.4948\n",
            "Epoch 65/100\n",
            "391/391 [==============================] - 16s 42ms/step - loss: 1.6008 - accuracy: 0.4967\n",
            "Epoch 66/100\n",
            "391/391 [==============================] - 16s 42ms/step - loss: 1.5956 - accuracy: 0.5006\n",
            "Epoch 67/100\n",
            "391/391 [==============================] - 18s 45ms/step - loss: 1.5871 - accuracy: 0.5012\n",
            "Epoch 68/100\n",
            "391/391 [==============================] - 16s 42ms/step - loss: 1.5769 - accuracy: 0.5038\n",
            "Epoch 69/100\n",
            "391/391 [==============================] - 16s 42ms/step - loss: 1.5738 - accuracy: 0.5056\n",
            "Epoch 70/100\n",
            "391/391 [==============================] - 16s 42ms/step - loss: 1.5665 - accuracy: 0.5089\n",
            "Epoch 71/100\n",
            "391/391 [==============================] - 18s 45ms/step - loss: 1.5582 - accuracy: 0.5107\n",
            "Epoch 72/100\n",
            "391/391 [==============================] - 16s 42ms/step - loss: 1.5537 - accuracy: 0.5099\n",
            "Epoch 73/100\n",
            "391/391 [==============================] - 17s 43ms/step - loss: 1.5453 - accuracy: 0.5141\n",
            "Epoch 74/100\n",
            "391/391 [==============================] - 18s 45ms/step - loss: 1.5384 - accuracy: 0.5173\n",
            "Epoch 75/100\n",
            "391/391 [==============================] - 17s 44ms/step - loss: 1.5324 - accuracy: 0.5176\n",
            "Epoch 76/100\n",
            "391/391 [==============================] - 17s 43ms/step - loss: 1.5261 - accuracy: 0.5195\n",
            "Epoch 77/100\n",
            "391/391 [==============================] - 17s 43ms/step - loss: 1.5205 - accuracy: 0.5218\n",
            "Epoch 78/100\n",
            "391/391 [==============================] - 18s 46ms/step - loss: 1.5173 - accuracy: 0.5206\n",
            "Epoch 79/100\n",
            "391/391 [==============================] - 16s 42ms/step - loss: 1.5073 - accuracy: 0.5233\n",
            "Epoch 80/100\n",
            "391/391 [==============================] - 17s 42ms/step - loss: 1.5007 - accuracy: 0.5287\n",
            "Epoch 81/100\n",
            "391/391 [==============================] - 17s 44ms/step - loss: 1.5001 - accuracy: 0.5287\n",
            "Epoch 82/100\n",
            "391/391 [==============================] - 17s 42ms/step - loss: 1.4890 - accuracy: 0.5311\n",
            "Epoch 83/100\n",
            "391/391 [==============================] - 16s 42ms/step - loss: 1.4807 - accuracy: 0.5349\n",
            "Epoch 84/100\n",
            "391/391 [==============================] - 16s 42ms/step - loss: 1.4750 - accuracy: 0.5347\n",
            "Epoch 85/100\n",
            "391/391 [==============================] - 17s 45ms/step - loss: 1.4730 - accuracy: 0.5346\n",
            "Epoch 86/100\n",
            "391/391 [==============================] - 16s 42ms/step - loss: 1.4664 - accuracy: 0.5367\n",
            "Epoch 87/100\n",
            "391/391 [==============================] - 17s 42ms/step - loss: 1.4565 - accuracy: 0.5413\n",
            "Epoch 88/100\n",
            "391/391 [==============================] - 17s 42ms/step - loss: 1.4524 - accuracy: 0.5427\n",
            "Epoch 89/100\n",
            "391/391 [==============================] - 17s 45ms/step - loss: 1.4473 - accuracy: 0.5441\n",
            "Epoch 90/100\n",
            "391/391 [==============================] - 16s 42ms/step - loss: 1.4378 - accuracy: 0.5459\n",
            "Epoch 91/100\n",
            "391/391 [==============================] - 16s 42ms/step - loss: 1.4362 - accuracy: 0.5471\n",
            "Epoch 92/100\n",
            "391/391 [==============================] - 17s 44ms/step - loss: 1.4294 - accuracy: 0.5488\n",
            "Epoch 93/100\n",
            "391/391 [==============================] - 17s 43ms/step - loss: 1.4196 - accuracy: 0.5532\n",
            "Epoch 94/100\n",
            "391/391 [==============================] - 16s 42ms/step - loss: 1.4172 - accuracy: 0.5526\n",
            "Epoch 95/100\n",
            "391/391 [==============================] - 16s 42ms/step - loss: 1.4114 - accuracy: 0.5562\n",
            "Epoch 96/100\n",
            "391/391 [==============================] - 18s 45ms/step - loss: 1.4088 - accuracy: 0.5550\n",
            "Epoch 97/100\n",
            "391/391 [==============================] - 17s 42ms/step - loss: 1.4001 - accuracy: 0.5602\n",
            "Epoch 98/100\n",
            "391/391 [==============================] - 17s 43ms/step - loss: 1.3951 - accuracy: 0.5591\n",
            "Epoch 99/100\n",
            "391/391 [==============================] - 19s 50ms/step - loss: 1.3886 - accuracy: 0.5642\n",
            "Epoch 100/100\n",
            "391/391 [==============================] - 19s 47ms/step - loss: 1.3847 - accuracy: 0.5639\n"
          ]
        }
      ]
    },
    {
      "cell_type": "code",
      "source": [
        "test_loss, test_acc = model.evaluate(X_test, y_test)\n",
        "print('Loss: ', test_loss)\n",
        "print('Accuracy: ', test_acc)"
      ],
      "metadata": {
        "colab": {
          "base_uri": "https://localhost:8080/"
        },
        "id": "791nw65Xxk6Q",
        "outputId": "596c9a8b-15f4-460d-a8ba-3210dec07fdb"
      },
      "execution_count": 16,
      "outputs": [
        {
          "output_type": "stream",
          "name": "stdout",
          "text": [
            "313/313 [==============================] - 3s 8ms/step - loss: 2.3436 - accuracy: 0.3594\n",
            "Loss:  2.3435516357421875\n",
            "Accuracy:  0.3594000041484833\n"
          ]
        }
      ]
    },
    {
      "cell_type": "code",
      "source": [
        "X_pred = X[33].reshape(1,32*32*3) \n",
        "X_pred = X_pred.astype('float32')/255.0\n",
        "y_pred = model.predict(X_pred)\n",
        "print(np.argmax(y_pred))\n",
        "\n",
        "plt.imshow(X[33], cmap='gray')\n",
        "plt.show()\n"
      ],
      "metadata": {
        "colab": {
          "base_uri": "https://localhost:8080/",
          "height": 465
        },
        "id": "LFKsVx1oxwZK",
        "outputId": "5443b79b-3233-4b87-bc07-05c1e556b7fd"
      },
      "execution_count": 17,
      "outputs": [
        {
          "output_type": "stream",
          "name": "stdout",
          "text": [
            "1/1 [==============================] - 0s 152ms/step\n",
            "4\n"
          ]
        },
        {
          "output_type": "display_data",
          "data": {
            "text/plain": [
              "<Figure size 640x480 with 1 Axes>"
            ],
            "image/png": "[encoded data removed]"
          },
          "metadata": {}
        }
      ]
    },
    {
      "cell_type": "markdown",
      "source": [
        "#Fashion Mnist"
      ],
      "metadata": {
        "id": "d5PNf2cN4btu"
      }
    },
    {
      "cell_type": "code",
      "source": [
        "from keras.datasets import fashion_mnist\n",
        "import matplotlib.pyplot as plt\n",
        "from keras.datasets import mnist\n",
        "import matplotlib.pyplot as plt\n",
        "from keras.models import Sequential\n",
        "from keras.layers import Dense\n",
        "from keras.utils import to_categorical\n",
        "from keras.models import load_model"
      ],
      "metadata": {
        "id": "7K1_nEje4h5k"
      },
      "execution_count": 57,
      "outputs": []
    },
    {
      "cell_type": "code",
      "source": [
        "(X_train, y_train), (X_test, y_test) = fashion_mnist.load_data()\n",
        "X_test.shape"
      ],
      "metadata": {
        "colab": {
          "base_uri": "https://localhost:8080/"
        },
        "id": "vYlUn5hF4myu",
        "outputId": "0867cc04-5812-4ec1-c5df-113d327c05c9"
      },
      "execution_count": 58,
      "outputs": [
        {
          "output_type": "execute_result",
          "data": {
            "text/plain": [
              "(10000, 28, 28)"
            ]
          },
          "metadata": {},
          "execution_count": 58
        }
      ]
    },
    {
      "cell_type": "code",
      "source": [
        "plt.imshow(X_train[12], cmap='gray', interpolation=None)\n",
        "plt.show()"
      ],
      "metadata": {
        "colab": {
          "base_uri": "https://localhost:8080/",
          "height": 430
        },
        "id": "CiQtBwY-4qli",
        "outputId": "7e4aa5ad-2e5c-4e70-83b2-50942de4d829"
      },
      "execution_count": 59,
      "outputs": [
        {
          "output_type": "display_data",
          "data": {
            "text/plain": [
              "<Figure size 640x480 with 1 Axes>"
            ],
            "image/png": "[encoded data removed]"
          },
          "metadata": {}
        }
      ]
    },
    {
      "cell_type": "code",
      "source": [
        "\n",
        "for i in range(15):\n",
        "    plt.subplot(5, 5, i+1)\n",
        "    plt.tight_layout()\n",
        "    plt.imshow(X_train[i], cmap='gray', interpolation=None)\n",
        "    plt.title('Số: {}'.format(y_train[i]))\n",
        "    plt.xticks([])\n",
        "    plt.yticks([])"
      ],
      "metadata": {
        "colab": {
          "base_uri": "https://localhost:8080/",
          "height": 300
        },
        "id": "ztQwRDqM47Tg",
        "outputId": "2959fdbe-0560-4906-cc1d-d919b6384435"
      },
      "execution_count": 60,
      "outputs": [
        {
          "output_type": "display_data",
          "data": {
            "text/plain": [
              "<Figure size 640x480 with 15 Axes>"
            ],
            "image/png": "[encoded data removed]"
          },
          "metadata": {}
        }
      ]
    },
    {
      "cell_type": "code",
      "source": [
        "model = Sequential()\n",
        "model.add(Dense(512, activation='relu', input_shape = (28*28, )))\n",
        "model.add(Dense(256, activation='relu'))\n",
        "model.add(Dense(128, activation='sigmoid'))\n",
        "model.add(Dense(10, activation='softmax'))\n",
        "\n",
        "model.summary()"
      ],
      "metadata": {
        "colab": {
          "base_uri": "https://localhost:8080/"
        },
        "id": "_TJJisxM5M5r",
        "outputId": "3fc3cae0-5429-4cf0-bcde-d811eea70b6c"
      },
      "execution_count": 61,
      "outputs": [
        {
          "output_type": "stream",
          "name": "stdout",
          "text": [
            "Model: \"sequential_6\"\n",
            "_________________________________________________________________\n",
            " Layer (type)                Output Shape              Param #   \n",
            "=================================================================\n",
            " dense_22 (Dense)            (None, 512)               401920    \n",
            "                                                                 \n",
            " dense_23 (Dense)            (None, 256)               131328    \n",
            "                                                                 \n",
            " dense_24 (Dense)            (None, 128)               32896     \n",
            "                                                                 \n",
            " dense_25 (Dense)            (None, 10)                1290      \n",
            "                                                                 \n",
            "=================================================================\n",
            "Total params: 567,434\n",
            "Trainable params: 567,434\n",
            "Non-trainable params: 0\n",
            "_________________________________________________________________\n"
          ]
        }
      ]
    },
    {
      "cell_type": "code",
      "source": [
        "X_train = X_train.reshape((60000, 28*28))\n",
        "X_train = X_train.astype('float32')/255.0\n",
        "\n",
        "X_test = X_test.reshape(10000, 28*28)\n",
        "X_test = X_test.astype('float32')/255.0\n",
        "\n",
        "train_labels = to_categorical(y_train, 10)\n",
        "test_labels = to_categorical(y_test, 10)"
      ],
      "metadata": {
        "id": "BfpEgl_45P3Q"
      },
      "execution_count": 62,
      "outputs": []
    },
    {
      "cell_type": "code",
      "source": [
        "model.compile(optimizer='adam', loss='sparse_categorical_crossentropy', metrics=['accuracy'])\n",
        "\n",
        "history = model.fit(X_train, y_train, epochs=50, batch_size = 128)"
      ],
      "metadata": {
        "colab": {
          "base_uri": "https://localhost:8080/"
        },
        "id": "Bko4svf152J7",
        "outputId": "bae00ae4-d19d-468b-dda1-fec894f95242"
      },
      "execution_count": 49,
      "outputs": [
        {
          "output_type": "stream",
          "name": "stdout",
          "text": [
            "Epoch 1/50\n",
            "391/391 [==============================] - 19s 45ms/step - loss: 2.6813 - accuracy: 0.1692\n",
            "Epoch 2/50\n",
            "391/391 [==============================] - 18s 45ms/step - loss: 2.4535 - accuracy: 0.2417\n",
            "Epoch 3/50\n",
            "391/391 [==============================] - 27s 69ms/step - loss: 2.3539 - accuracy: 0.2760\n",
            "Epoch 4/50\n",
            "391/391 [==============================] - 18s 47ms/step - loss: 2.2832 - accuracy: 0.2947\n",
            "Epoch 5/50\n",
            "391/391 [==============================] - 17s 44ms/step - loss: 2.2263 - accuracy: 0.3129\n",
            "Epoch 6/50\n",
            "391/391 [==============================] - 17s 44ms/step - loss: 2.1803 - accuracy: 0.3291\n",
            "Epoch 7/50\n",
            "391/391 [==============================] - 19s 47ms/step - loss: 2.1376 - accuracy: 0.3400\n",
            "Epoch 8/50\n",
            "391/391 [==============================] - 17s 44ms/step - loss: 2.1004 - accuracy: 0.3498\n",
            "Epoch 9/50\n",
            "391/391 [==============================] - 18s 46ms/step - loss: 2.0718 - accuracy: 0.3607\n",
            "Epoch 10/50\n",
            "391/391 [==============================] - 18s 46ms/step - loss: 2.0367 - accuracy: 0.3701\n",
            "Epoch 11/50\n",
            "391/391 [==============================] - 17s 44ms/step - loss: 2.0072 - accuracy: 0.3803\n",
            "Epoch 12/50\n",
            "391/391 [==============================] - 18s 46ms/step - loss: 1.9775 - accuracy: 0.3895\n",
            "Epoch 13/50\n",
            "391/391 [==============================] - 18s 45ms/step - loss: 1.9454 - accuracy: 0.3984\n",
            "Epoch 14/50\n",
            "391/391 [==============================] - 16s 40ms/step - loss: 1.9221 - accuracy: 0.4046\n",
            "Epoch 15/50\n",
            "391/391 [==============================] - 16s 41ms/step - loss: 1.8939 - accuracy: 0.4136\n",
            "Epoch 16/50\n",
            "391/391 [==============================] - 17s 42ms/step - loss: 1.8721 - accuracy: 0.4192\n",
            "Epoch 17/50\n",
            "391/391 [==============================] - 16s 41ms/step - loss: 1.8521 - accuracy: 0.4242\n",
            "Epoch 18/50\n",
            "391/391 [==============================] - 16s 40ms/step - loss: 1.8188 - accuracy: 0.4350\n",
            "Epoch 19/50\n",
            "391/391 [==============================] - 16s 40ms/step - loss: 1.7957 - accuracy: 0.4437\n",
            "Epoch 20/50\n",
            "391/391 [==============================] - 16s 42ms/step - loss: 1.7718 - accuracy: 0.4498\n",
            "Epoch 21/50\n",
            "391/391 [==============================] - 16s 41ms/step - loss: 1.7508 - accuracy: 0.4563\n",
            "Epoch 22/50\n",
            "391/391 [==============================] - 16s 40ms/step - loss: 1.7234 - accuracy: 0.4636\n",
            "Epoch 23/50\n",
            "391/391 [==============================] - 16s 41ms/step - loss: 1.6994 - accuracy: 0.4692\n",
            "Epoch 24/50\n",
            "391/391 [==============================] - 16s 41ms/step - loss: 1.6695 - accuracy: 0.4824\n",
            "Epoch 25/50\n",
            "391/391 [==============================] - 17s 43ms/step - loss: 1.6495 - accuracy: 0.4848\n",
            "Epoch 26/50\n",
            "391/391 [==============================] - 16s 41ms/step - loss: 1.6222 - accuracy: 0.4946\n",
            "Epoch 27/50\n",
            "391/391 [==============================] - 16s 41ms/step - loss: 1.5948 - accuracy: 0.5002\n",
            "Epoch 28/50\n",
            "391/391 [==============================] - 16s 41ms/step - loss: 1.5678 - accuracy: 0.5101\n",
            "Epoch 29/50\n",
            "391/391 [==============================] - 17s 43ms/step - loss: 1.5566 - accuracy: 0.5124\n",
            "Epoch 30/50\n",
            "391/391 [==============================] - 16s 41ms/step - loss: 1.5280 - accuracy: 0.5234\n",
            "Epoch 31/50\n",
            "391/391 [==============================] - 16s 41ms/step - loss: 1.5061 - accuracy: 0.5289\n",
            "Epoch 32/50\n",
            "391/391 [==============================] - 16s 40ms/step - loss: 1.4875 - accuracy: 0.5371\n",
            "Epoch 33/50\n",
            "391/391 [==============================] - 17s 44ms/step - loss: 1.4725 - accuracy: 0.5412\n",
            "Epoch 34/50\n",
            "391/391 [==============================] - 16s 41ms/step - loss: 1.4412 - accuracy: 0.5490\n",
            "Epoch 35/50\n",
            "391/391 [==============================] - 16s 40ms/step - loss: 1.4248 - accuracy: 0.5539\n",
            "Epoch 36/50\n",
            "391/391 [==============================] - 16s 40ms/step - loss: 1.3995 - accuracy: 0.5622\n",
            "Epoch 37/50\n",
            "391/391 [==============================] - 17s 43ms/step - loss: 1.3838 - accuracy: 0.5674\n",
            "Epoch 38/50\n",
            "391/391 [==============================] - 16s 41ms/step - loss: 1.3675 - accuracy: 0.5709\n",
            "Epoch 39/50\n",
            "391/391 [==============================] - 16s 40ms/step - loss: 1.3434 - accuracy: 0.5795\n",
            "Epoch 40/50\n",
            "391/391 [==============================] - 16s 40ms/step - loss: 1.3253 - accuracy: 0.5832\n",
            "Epoch 41/50\n",
            "391/391 [==============================] - 16s 41ms/step - loss: 1.2973 - accuracy: 0.5919\n",
            "Epoch 42/50\n",
            "391/391 [==============================] - 16s 42ms/step - loss: 1.2848 - accuracy: 0.5970\n",
            "Epoch 43/50\n",
            "391/391 [==============================] - 16s 40ms/step - loss: 1.2722 - accuracy: 0.6020\n",
            "Epoch 44/50\n",
            "391/391 [==============================] - 16s 41ms/step - loss: 1.2563 - accuracy: 0.6050\n",
            "Epoch 45/50\n",
            "391/391 [==============================] - 16s 40ms/step - loss: 1.2453 - accuracy: 0.6098\n",
            "Epoch 46/50\n",
            "391/391 [==============================] - 17s 43ms/step - loss: 1.2149 - accuracy: 0.6194\n",
            "Epoch 47/50\n",
            "391/391 [==============================] - 16s 40ms/step - loss: 1.2064 - accuracy: 0.6205\n",
            "Epoch 48/50\n",
            "391/391 [==============================] - 16s 41ms/step - loss: 1.1927 - accuracy: 0.6236\n",
            "Epoch 49/50\n",
            "391/391 [==============================] - 16s 40ms/step - loss: 1.1616 - accuracy: 0.6351\n",
            "Epoch 50/50\n",
            "391/391 [==============================] - 16s 41ms/step - loss: 1.1559 - accuracy: 0.6353\n"
          ]
        }
      ]
    },
    {
      "cell_type": "code",
      "source": [
        "X_pred = X[67].reshape(1,28*28) \n",
        "X_pred = X_pred.astype('float32')/255.0\n",
        "y_pred = model.predict(X_pred)\n",
        "print(np.argmax(y_pred))\n",
        "\n",
        "plt.imshow(X[78], cmap='gray')\n",
        "plt.show()\n",
        "     "
      ],
      "metadata": {
        "colab": {
          "base_uri": "https://localhost:8080/",
          "height": 465
        },
        "id": "nW5G8NiL6mY0",
        "outputId": "7272951a-5fca-436c-ba6d-64020394012a"
      },
      "execution_count": 65,
      "outputs": [
        {
          "output_type": "stream",
          "name": "stdout",
          "text": [
            "1/1 [==============================] - 0s 70ms/step\n",
            "8\n"
          ]
        },
        {
          "output_type": "display_data",
          "data": {
            "text/plain": [
              "<Figure size 640x480 with 1 Axes>"
            ],
            "image/png": "[encoded data removed]"
          },
          "metadata": {}
        }
      ]
    }
  ]
}